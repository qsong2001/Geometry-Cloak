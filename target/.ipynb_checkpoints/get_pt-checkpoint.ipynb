{
 "cells": [
  {
   "cell_type": "code",
   "execution_count": 2,
   "id": "e67b086c",
   "metadata": {},
   "outputs": [],
   "source": [
    "import cv2\n",
    "import numpy as np\n",
    "import torch\n",
    "import os"
   ]
  },
  {
   "cell_type": "code",
   "execution_count": 3,
   "id": "810d5e7b",
   "metadata": {},
   "outputs": [],
   "source": [
    "def get_point_cloud(path):\n",
    "    \n",
    "    image = cv2.imread(path)\n",
    "    print(image.shape)\n",
    "    image = cv2.resize(image, (512, 512))\n",
    "    \n",
    "    gray_image = cv2.cvtColor(image, cv2.COLOR_BGR2GRAY)\n",
    "    \n",
    "    # 使用 Canny 边缘检测算法\n",
    "    edges = cv2.Canny(gray_image, 100, 200)\n",
    "    \n",
    "    # 使用阈值分割\n",
    "    ret, thresholded = cv2.threshold(gray_image, 127, 255, cv2.THRESH_BINARY)\n",
    "    # thresholded = cv2.resize(thresholded, (512, 512))\n",
    "    \n",
    "    black_pixels = np.argwhere(thresholded == 0)\n",
    "    \n",
    "#     if len(black_pixels) > 16000:\n",
    "#         np.random.shuffle(black_pixels)\n",
    "#         black_pixels = black_pixels[:16000]\n",
    "        \n",
    "    # point_cloud = np.concatenate((black_pixels, np.zeros((black_pixels.shape[0], 1))), axis=1)\n",
    "    return black_pixels / 512 - 0.5\n",
    "\n",
    "# target_point_cloud = torch.tensor(get_point_cloud('1.png')).unsqueeze(0).to('cuda').float()\n",
    "# target_point_cloud.shape"
   ]
  },
  {
   "cell_type": "code",
   "execution_count": null,
   "id": "d83e743b",
   "metadata": {},
   "outputs": [],
   "source": []
  },
  {
   "cell_type": "code",
   "execution_count": 3,
   "id": "898abab1",
   "metadata": {},
   "outputs": [],
   "source": [
    "directory = './'\n",
    "png_files = [file for file in os.listdir(directory) if file.endswith('.png')]"
   ]
  },
  {
   "cell_type": "code",
   "execution_count": 4,
   "id": "188134a2",
   "metadata": {},
   "outputs": [
    {
     "data": {
      "text/plain": [
       "['X.png',\n",
       " '3.png',\n",
       " '9.png',\n",
       " '5.png',\n",
       " 'L.png',\n",
       " 'B.png',\n",
       " '1.png',\n",
       " 'K.png',\n",
       " 'D.png',\n",
       " 'C.png',\n",
       " '4.png',\n",
       " 'Y.png',\n",
       " 'A.png',\n",
       " 'eccv.png',\n",
       " 'E.png',\n",
       " '2.png']"
      ]
     },
     "execution_count": 4,
     "metadata": {},
     "output_type": "execute_result"
    }
   ],
   "source": [
    "png_files"
   ]
  },
  {
   "cell_type": "code",
   "execution_count": 5,
   "id": "3b7bf8e5",
   "metadata": {},
   "outputs": [
    {
     "name": "stdout",
     "output_type": "stream",
     "text": [
      "torch.Size([1, 16000, 2])\n",
      "torch.Size([1, 16000, 2])\n",
      "torch.Size([1, 16000, 2])\n",
      "torch.Size([1, 16000, 2])\n",
      "torch.Size([1, 16000, 2])\n",
      "torch.Size([1, 16000, 2])\n",
      "torch.Size([1, 14668, 2])\n",
      "torch.Size([1, 16000, 2])\n",
      "torch.Size([1, 16000, 2])\n",
      "torch.Size([1, 16000, 2])\n",
      "torch.Size([1, 16000, 2])\n",
      "torch.Size([1, 16000, 2])\n",
      "torch.Size([1, 16000, 2])\n",
      "torch.Size([1, 16000, 2])\n",
      "torch.Size([1, 16000, 2])\n",
      "torch.Size([1, 16000, 2])\n"
     ]
    }
   ],
   "source": [
    "# for png_file in png_files:\n",
    "#     target_point_cloud = torch.tensor(get_point_cloud(png_file)).unsqueeze(0).float()\n",
    "#     torch.save(target_point_cloud,png_file.replace('png','pt'))\n",
    "#     print(target_point_cloud.shape)"
   ]
  },
  {
   "cell_type": "code",
   "execution_count": 4,
   "id": "a8470bbd",
   "metadata": {},
   "outputs": [
    {
     "name": "stdout",
     "output_type": "stream",
     "text": [
      "(470, 1356, 3)\n",
      "torch.Size([1, 33517, 2])\n"
     ]
    }
   ],
   "source": []
  },
  {
   "cell_type": "code",
   "execution_count": 23,
   "id": "cbfb7604",
   "metadata": {},
   "outputs": [],
   "source": [
    "def get_point_cloud(path):\n",
    "    \n",
    "    image = cv2.imread(path)\n",
    "#     print(image.shape)\n",
    "#     image = cv2.resize(image, (512, 512))\n",
    "    \n",
    "    gray_image = cv2.cvtColor(image, cv2.COLOR_BGR2GRAY)\n",
    "    \n",
    "    # 使用 Canny 边缘检测算法\n",
    "    edges = cv2.Canny(gray_image, 100, 200)\n",
    "    \n",
    "    # 使用阈值分割\n",
    "    ret, thresholded = cv2.threshold(gray_image, 127, 255, cv2.THRESH_BINARY)\n",
    "    \n",
    "    # thresholded = cv2.resize(thresholded, (512, 512))\n",
    "    \n",
    "    black_pixels = np.argwhere(thresholded == 0)\n",
    "    center = np.mean(points, axis=0)\n",
    "    \n",
    "    \n",
    "    points = (points - center) / np.max(np.abs(points - center)) * 0.5\n",
    "    tensor = torch.tensor(black_pixels)\n",
    "    min_val = torch.min(tensor)\n",
    "    max_val = torch.max(tensor)\n",
    "    tensor = 0.5 * (tensor - min_val) / (max_val - min_val)\n",
    "#     if len(black_pixels) > 16000:\n",
    "#         np.random.shuffle(black_pixels)\n",
    "#         black_pixels = black_pixels[:16000]\n",
    "        \n",
    "    # point_cloud = np.concatenate((black_pixels, np.zeros((black_pixels.shape[0], 1))), axis=1)\n",
    "    return tensor\n"
   ]
  },
  {
   "cell_type": "code",
   "execution_count": 24,
   "id": "7aff63e1",
   "metadata": {},
   "outputs": [
    {
     "name": "stdout",
     "output_type": "stream",
     "text": [
      "torch.Size([1, 80828, 2])\n",
      "torch.Size([1, 80828, 2])\n"
     ]
    }
   ],
   "source": [
    "png_file = 'eccv.png'\n",
    "target_point_cloud = get_point_cloud(png_file).unsqueeze(0).float()\n",
    "print(target_point_cloud.shape)\n",
    "torch.save(target_point_cloud,png_file.replace('png','pt'))\n",
    "print(target_point_cloud.shape)"
   ]
  },
  {
   "cell_type": "code",
   "execution_count": 25,
   "id": "d41153b4",
   "metadata": {},
   "outputs": [
    {
     "name": "stdout",
     "output_type": "stream",
     "text": [
      "load eccv.pt done!\n",
      "(1, 80828, 2)\n"
     ]
    },
    {
     "data": {
      "text/plain": [
       "(-0.5, 0.5)"
      ]
     },
     "execution_count": 25,
     "metadata": {},
     "output_type": "execute_result"
    },
    {
     "data": {
      "image/png": "[encoded data removed]",
      "text/plain": [
       "<Figure size 640x480 with 1 Axes>"
      ]
     },
     "metadata": {},
     "output_type": "display_data"
    }
   ],
   "source": [
    "import matplotlib.pyplot as plt\n",
    "ckpt = torch.load('eccv.pt')\n",
    "\n",
    "print(f\"load eccv.pt done!\")\n",
    "\n",
    "# import random\n",
    "# point_cloud = random.choice(targets)\n",
    "\n",
    "point_cloud = ckpt\n",
    "points = np.asarray(point_cloud.cpu())\n",
    "print(points.shape)\n",
    "\n",
    "# 展示点云数据\n",
    "plt.figure()\n",
    "plt.scatter(points[:,:, 0], points[:,:, 1], s=0.1)  # 在xy平面上展示点云，颜色为蓝色，大小为1\n",
    "# plt.axis('off')  # 关闭坐标轴\n",
    "# plt.gca().set_aspect('equal', adjustable='box')  # 设置画布长宽比例为1:1\n",
    "# 设置切割区域为正方形，宽度以y轴为准\n",
    "\n",
    "ymin= -0.5\n",
    "ymax = 0.5\n",
    "center_x = 0\n",
    "plt.ylim(ymin, ymax)  # 设置y轴范围\n",
    "plt.xlim(center_x - (ymax - ymin) / 2, center_x + (ymax - ymin) / 2)\n"
   ]
  },
  {
   "cell_type": "code",
   "execution_count": 12,
   "id": "71004e50",
   "metadata": {},
   "outputs": [
    {
     "name": "stdout",
     "output_type": "stream",
     "text": [
      "-0.4378981 0.5\n"
     ]
    }
   ],
   "source": [
    "print(points.min(),points.max())"
   ]
  },
  {
   "cell_type": "code",
   "execution_count": null,
   "id": "9092d9dc",
   "metadata": {},
   "outputs": [],
   "source": []
  }
 ],
 "metadata": {
  "kernelspec": {
   "display_name": "Python 3 (ipykernel)",
   "language": "python",
   "name": "python3"
  },
  "language_info": {
   "codemirror_mode": {
    "name": "ipython",
    "version": 3
   },
   "file_extension": ".py",
   "mimetype": "text/x-python",
   "name": "python",
   "nbconvert_exporter": "python",
   "pygments_lexer": "ipython3",
   "version": "3.8.10"
  }
 },
 "nbformat": 4,
 "nbformat_minor": 5
}
